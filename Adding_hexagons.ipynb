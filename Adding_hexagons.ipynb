{
 "cells": [
  {
   "cell_type": "code",
   "execution_count": 1,
   "id": "ef5786cb",
   "metadata": {},
   "outputs": [],
   "source": [
    "import pickle\n",
    "import numpy as np\n",
    "import pandas as pd"
   ]
  },
  {
   "cell_type": "markdown",
   "id": "a4c334a9",
   "metadata": {},
   "source": [
    "### First, merge the two files that you have"
   ]
  },
  {
   "cell_type": "markdown",
   "id": "79a05579",
   "metadata": {},
   "source": [
    "Note to **Farnoud**: please skip to later part, there is a subset sample, so you can load easily"
   ]
  },
  {
   "cell_type": "code",
   "execution_count": 2,
   "id": "d1976832",
   "metadata": {},
   "outputs": [],
   "source": [
    "with open(r\"C:\\Users\\zmich\\OneDrive - Uniwersytet Jagielloński\\Szkoła Doktorska\\Miscellaneous\\final_res_16-09-22.obj\", \"rb\") as file:\n",
    "    data1 = pickle.load(file)"
   ]
  },
  {
   "cell_type": "code",
   "execution_count": 3,
   "id": "7fcb0102",
   "metadata": {},
   "outputs": [],
   "source": [
    "with open(r\"C:\\Users\\zmich\\OneDrive - Uniwersytet Jagielloński\\Szkoła Doktorska\\Miscellaneous\\final_res_03-11-22.obj\", \"rb\") as file:\n",
    "    data2 = pickle.load(file)"
   ]
  },
  {
   "cell_type": "code",
   "execution_count": 4,
   "id": "c21994cf",
   "metadata": {},
   "outputs": [],
   "source": [
    "data = data1 + data2"
   ]
  },
  {
   "cell_type": "code",
   "execution_count": 5,
   "id": "b3b320ea",
   "metadata": {},
   "outputs": [],
   "source": [
    "data.sort(key=lambda x: x[\"settings\"][\"Batch\"] * 5 + x[\"settings\"][\"shared_discount\"])"
   ]
  },
  {
   "cell_type": "code",
   "execution_count": 6,
   "id": "e4a4b83a",
   "metadata": {},
   "outputs": [
    {
     "data": {
      "text/plain": [
       "{'Replication': 0,\n",
       " 'Batch': 0,\n",
       " 'shared_discount': 0.32,\n",
       " 'Start_time': Timestamp('2016-01-01 00:00:17'),\n",
       " 'End_time': Timestamp('2016-01-01 00:29:45'),\n",
       " 'Demand_size': 198}"
      ]
     },
     "execution_count": 6,
     "metadata": {},
     "output_type": "execute_result"
    }
   ],
   "source": [
    "data[3][\"settings\"]"
   ]
  },
  {
   "cell_type": "markdown",
   "id": "2949564c",
   "metadata": {},
   "source": [
    "optionally save the object"
   ]
  },
  {
   "cell_type": "code",
   "execution_count": 39,
   "id": "846b630e",
   "metadata": {},
   "outputs": [],
   "source": [
    "with open(r\"some_path\\some_name.obj\", \"wb\") as file:\n",
    "    pickle.dump(data, file)"
   ]
  },
  {
   "cell_type": "markdown",
   "id": "4cab099b",
   "metadata": {},
   "source": [
    "## Adding long and lat"
   ]
  },
  {
   "cell_type": "markdown",
   "id": "a5cac360",
   "metadata": {},
   "source": [
    "**data** is the list with all results"
   ]
  },
  {
   "cell_type": "markdown",
   "id": "eab84c14",
   "metadata": {},
   "source": [
    "To add longitudes and latitudes, we need to load one full dotmap with exmas results"
   ]
  },
  {
   "cell_type": "code",
   "execution_count": 7,
   "id": "a72a776e",
   "metadata": {},
   "outputs": [],
   "source": [
    "with open(r\"C:\\Users\\zmich\\OneDrive - Uniwersytet Jagielloński\\Szkoła Doktorska\\Miscellaneous\\single_full_dotmap_29-11-22.obj\", \"rb\") as file:\n",
    "    one_dataset = pickle.load(file)[0]"
   ]
  },
  {
   "cell_type": "markdown",
   "id": "484c2383",
   "metadata": {},
   "source": [
    "Small sample for the purpose of recreation: **Farnoud starts here** <br>\n",
    "For **full analysis ommit the lines**"
   ]
  },
  {
   "cell_type": "code",
   "execution_count": 2,
   "id": "0a3c8e70",
   "metadata": {},
   "outputs": [],
   "source": [
    "with open(\"data_storage/one_dataset_cut.obj\", \"rb\") as file:\n",
    "    one_dataset = pickle.load(file)"
   ]
  },
  {
   "cell_type": "code",
   "execution_count": 3,
   "id": "f57ad185",
   "metadata": {},
   "outputs": [],
   "source": [
    "with open(\"data_storage/small_dataset.obj\", \"rb\") as file:\n",
    "    data = pickle.load(file)"
   ]
  },
  {
   "cell_type": "markdown",
   "id": "c4bb5baf",
   "metadata": {},
   "source": [
    "**Start back here**"
   ]
  },
  {
   "cell_type": "code",
   "execution_count": 4,
   "id": "18be76ed",
   "metadata": {},
   "outputs": [
    {
     "data": {
      "text/html": [
       "<div>\n",
       "<style scoped>\n",
       "    .dataframe tbody tr th:only-of-type {\n",
       "        vertical-align: middle;\n",
       "    }\n",
       "\n",
       "    .dataframe tbody tr th {\n",
       "        vertical-align: top;\n",
       "    }\n",
       "\n",
       "    .dataframe thead th {\n",
       "        text-align: right;\n",
       "    }\n",
       "</style>\n",
       "<table border=\"1\" class=\"dataframe\">\n",
       "  <thead>\n",
       "    <tr style=\"text-align: right;\">\n",
       "      <th></th>\n",
       "      <th>Node</th>\n",
       "      <th>x</th>\n",
       "      <th>y</th>\n",
       "    </tr>\n",
       "  </thead>\n",
       "  <tbody>\n",
       "    <tr>\n",
       "      <th>0</th>\n",
       "      <td>42421728</td>\n",
       "      <td>-73.960044</td>\n",
       "      <td>40.798048</td>\n",
       "    </tr>\n",
       "    <tr>\n",
       "      <th>1</th>\n",
       "      <td>42421731</td>\n",
       "      <td>-73.961474</td>\n",
       "      <td>40.798654</td>\n",
       "    </tr>\n",
       "    <tr>\n",
       "      <th>2</th>\n",
       "      <td>42421737</td>\n",
       "      <td>-73.962873</td>\n",
       "      <td>40.799244</td>\n",
       "    </tr>\n",
       "  </tbody>\n",
       "</table>\n",
       "</div>"
      ],
      "text/plain": [
       "       Node          x          y\n",
       "0  42421728 -73.960044  40.798048\n",
       "1  42421731 -73.961474  40.798654\n",
       "2  42421737 -73.962873  40.799244"
      ]
     },
     "execution_count": 4,
     "metadata": {},
     "output_type": "execute_result"
    }
   ],
   "source": [
    "nodes_geo = pd.DataFrame({\"Node\": [t[0] for t in one_dataset[\"G\"].nodes._nodes.items()],\n",
    "                          \"x\": [t[1][\"x\"] for t in one_dataset[\"G\"].nodes._nodes.items()],\n",
    "                          \"y\": [t[1][\"y\"] for t in one_dataset[\"G\"].nodes._nodes.items()]})\n",
    "nodes_geo[:3]"
   ]
  },
  {
   "cell_type": "code",
   "execution_count": 5,
   "id": "8ae5eef8",
   "metadata": {},
   "outputs": [],
   "source": [
    "def merging_foo(data, nodes_geo):\n",
    "    new_requests = data[\"requests\"].merge(nodes_geo, left_on=\"origin\", right_on=\"Node\")\\\n",
    "                    .drop(columns=\"Node\").rename(columns={\"x\": \"x_org\", \"y\": \"y_org\"})\n",
    "    new_requests = new_requests.merge(nodes_geo, left_on=\"destination\", right_on=\"Node\")\\\n",
    "                    .drop(columns=\"Node\").rename(columns={\"x\": \"x_dest\", \"y\": \"y_dest\"})\n",
    "    data[\"requests\"] = new_requests"
   ]
  },
  {
   "cell_type": "code",
   "execution_count": 6,
   "id": "aa346cc2",
   "metadata": {},
   "outputs": [],
   "source": [
    "for dt in data:\n",
    "    merging_foo(dt, nodes_geo)"
   ]
  },
  {
   "cell_type": "code",
   "execution_count": 7,
   "id": "4a2d8ed9",
   "metadata": {},
   "outputs": [
    {
     "data": {
      "text/html": [
       "<div>\n",
       "<style scoped>\n",
       "    .dataframe tbody tr th:only-of-type {\n",
       "        vertical-align: middle;\n",
       "    }\n",
       "\n",
       "    .dataframe tbody tr th {\n",
       "        vertical-align: top;\n",
       "    }\n",
       "\n",
       "    .dataframe thead th {\n",
       "        text-align: right;\n",
       "    }\n",
       "</style>\n",
       "<table border=\"1\" class=\"dataframe\">\n",
       "  <thead>\n",
       "    <tr style=\"text-align: right;\">\n",
       "      <th></th>\n",
       "      <th>id</th>\n",
       "      <th>pickup_datetime</th>\n",
       "      <th>dropoff_datetime</th>\n",
       "      <th>trip_duration</th>\n",
       "      <th>origin</th>\n",
       "      <th>destination</th>\n",
       "      <th>status</th>\n",
       "      <th>dist</th>\n",
       "      <th>treq</th>\n",
       "      <th>ttrav</th>\n",
       "      <th>...</th>\n",
       "      <th>u_PT</th>\n",
       "      <th>ride_id</th>\n",
       "      <th>ttrav_sh</th>\n",
       "      <th>u_sh</th>\n",
       "      <th>kind</th>\n",
       "      <th>position</th>\n",
       "      <th>x_org</th>\n",
       "      <th>y_org</th>\n",
       "      <th>x_dest</th>\n",
       "      <th>y_dest</th>\n",
       "    </tr>\n",
       "  </thead>\n",
       "  <tbody>\n",
       "    <tr>\n",
       "      <th>0</th>\n",
       "      <td>id0190469</td>\n",
       "      <td>2016-01-01 00:00:17</td>\n",
       "      <td>2016-01-01 00:14:26</td>\n",
       "      <td>849</td>\n",
       "      <td>42427352</td>\n",
       "      <td>42438018</td>\n",
       "      <td>0</td>\n",
       "      <td>14340</td>\n",
       "      <td>0</td>\n",
       "      <td>2390</td>\n",
       "      <td>...</td>\n",
       "      <td>999999</td>\n",
       "      <td>306</td>\n",
       "      <td>2591</td>\n",
       "      <td>29.772825</td>\n",
       "      <td>21</td>\n",
       "      <td>0</td>\n",
       "      <td>-73.981942</td>\n",
       "      <td>40.719462</td>\n",
       "      <td>-73.938959</td>\n",
       "      <td>40.828984</td>\n",
       "    </tr>\n",
       "    <tr>\n",
       "      <th>1</th>\n",
       "      <td>id1210365</td>\n",
       "      <td>2016-01-01 00:01:01</td>\n",
       "      <td>2016-01-01 00:07:49</td>\n",
       "      <td>408</td>\n",
       "      <td>42432756</td>\n",
       "      <td>42434113</td>\n",
       "      <td>0</td>\n",
       "      <td>2640</td>\n",
       "      <td>44</td>\n",
       "      <td>440</td>\n",
       "      <td>...</td>\n",
       "      <td>999999</td>\n",
       "      <td>1</td>\n",
       "      <td>440</td>\n",
       "      <td>5.500000</td>\n",
       "      <td>1</td>\n",
       "      <td>0</td>\n",
       "      <td>-73.965196</td>\n",
       "      <td>40.801107</td>\n",
       "      <td>-73.947489</td>\n",
       "      <td>40.815207</td>\n",
       "    </tr>\n",
       "    <tr>\n",
       "      <th>2</th>\n",
       "      <td>id3991965</td>\n",
       "      <td>2016-01-01 00:20:08</td>\n",
       "      <td>2016-01-01 00:29:16</td>\n",
       "      <td>548</td>\n",
       "      <td>42437917</td>\n",
       "      <td>42434113</td>\n",
       "      <td>0</td>\n",
       "      <td>2705</td>\n",
       "      <td>1191</td>\n",
       "      <td>450</td>\n",
       "      <td>...</td>\n",
       "      <td>999999</td>\n",
       "      <td>118</td>\n",
       "      <td>450</td>\n",
       "      <td>5.632500</td>\n",
       "      <td>1</td>\n",
       "      <td>0</td>\n",
       "      <td>-73.963370</td>\n",
       "      <td>40.798568</td>\n",
       "      <td>-73.947489</td>\n",
       "      <td>40.815207</td>\n",
       "    </tr>\n",
       "  </tbody>\n",
       "</table>\n",
       "<p>3 rows × 24 columns</p>\n",
       "</div>"
      ],
      "text/plain": [
       "          id     pickup_datetime     dropoff_datetime  trip_duration  \\\n",
       "0  id0190469 2016-01-01 00:00:17  2016-01-01 00:14:26            849   \n",
       "1  id1210365 2016-01-01 00:01:01  2016-01-01 00:07:49            408   \n",
       "2  id3991965 2016-01-01 00:20:08  2016-01-01 00:29:16            548   \n",
       "\n",
       "     origin  destination  status   dist  treq  ttrav  ...    u_PT  ride_id  \\\n",
       "0  42427352     42438018       0  14340     0   2390  ...  999999      306   \n",
       "1  42432756     42434113       0   2640    44    440  ...  999999        1   \n",
       "2  42437917     42434113       0   2705  1191    450  ...  999999      118   \n",
       "\n",
       "   ttrav_sh       u_sh  kind  position      x_org      y_org     x_dest  \\\n",
       "0      2591  29.772825    21         0 -73.981942  40.719462 -73.938959   \n",
       "1       440   5.500000     1         0 -73.965196  40.801107 -73.947489   \n",
       "2       450   5.632500     1         0 -73.963370  40.798568 -73.947489   \n",
       "\n",
       "      y_dest  \n",
       "0  40.828984  \n",
       "1  40.815207  \n",
       "2  40.815207  \n",
       "\n",
       "[3 rows x 24 columns]"
      ]
     },
     "execution_count": 7,
     "metadata": {},
     "output_type": "execute_result"
    }
   ],
   "source": [
    "data[0][\"requests\"][:3]"
   ]
  },
  {
   "cell_type": "markdown",
   "id": "bb71bdb6",
   "metadata": {},
   "source": [
    "optional:"
   ]
  },
  {
   "cell_type": "code",
   "execution_count": 23,
   "id": "918243d8",
   "metadata": {},
   "outputs": [],
   "source": [
    "with open(\"some_path\\some_name2.obj\", \"wb\") as file:\n",
    "    pickle.dump(data, file)"
   ]
  },
  {
   "cell_type": "markdown",
   "id": "105735cb",
   "metadata": {},
   "source": [
    "Either loop similarly to earlier or create a great df as follows"
   ]
  },
  {
   "cell_type": "code",
   "execution_count": 8,
   "id": "6c63fcc7",
   "metadata": {},
   "outputs": [],
   "source": [
    "concatenated_data = pd.concat([d[\"requests\"] for d in data])"
   ]
  },
  {
   "cell_type": "code",
   "execution_count": 9,
   "id": "93b9a06f",
   "metadata": {},
   "outputs": [
    {
     "data": {
      "text/html": [
       "<div>\n",
       "<style scoped>\n",
       "    .dataframe tbody tr th:only-of-type {\n",
       "        vertical-align: middle;\n",
       "    }\n",
       "\n",
       "    .dataframe tbody tr th {\n",
       "        vertical-align: top;\n",
       "    }\n",
       "\n",
       "    .dataframe thead th {\n",
       "        text-align: right;\n",
       "    }\n",
       "</style>\n",
       "<table border=\"1\" class=\"dataframe\">\n",
       "  <thead>\n",
       "    <tr style=\"text-align: right;\">\n",
       "      <th></th>\n",
       "      <th>id</th>\n",
       "      <th>pickup_datetime</th>\n",
       "      <th>dropoff_datetime</th>\n",
       "      <th>trip_duration</th>\n",
       "      <th>origin</th>\n",
       "      <th>destination</th>\n",
       "      <th>status</th>\n",
       "      <th>dist</th>\n",
       "      <th>treq</th>\n",
       "      <th>ttrav</th>\n",
       "      <th>...</th>\n",
       "      <th>u_PT</th>\n",
       "      <th>ride_id</th>\n",
       "      <th>ttrav_sh</th>\n",
       "      <th>u_sh</th>\n",
       "      <th>kind</th>\n",
       "      <th>position</th>\n",
       "      <th>x_org</th>\n",
       "      <th>y_org</th>\n",
       "      <th>x_dest</th>\n",
       "      <th>y_dest</th>\n",
       "    </tr>\n",
       "  </thead>\n",
       "  <tbody>\n",
       "    <tr>\n",
       "      <th>0</th>\n",
       "      <td>id0190469</td>\n",
       "      <td>2016-01-01 00:00:17</td>\n",
       "      <td>2016-01-01 00:14:26</td>\n",
       "      <td>849</td>\n",
       "      <td>42427352</td>\n",
       "      <td>42438018</td>\n",
       "      <td>0</td>\n",
       "      <td>14340</td>\n",
       "      <td>0</td>\n",
       "      <td>2390</td>\n",
       "      <td>...</td>\n",
       "      <td>999999</td>\n",
       "      <td>306</td>\n",
       "      <td>2591</td>\n",
       "      <td>29.772825</td>\n",
       "      <td>21</td>\n",
       "      <td>0</td>\n",
       "      <td>-73.981942</td>\n",
       "      <td>40.719462</td>\n",
       "      <td>-73.938959</td>\n",
       "      <td>40.828984</td>\n",
       "    </tr>\n",
       "    <tr>\n",
       "      <th>1</th>\n",
       "      <td>id1210365</td>\n",
       "      <td>2016-01-01 00:01:01</td>\n",
       "      <td>2016-01-01 00:07:49</td>\n",
       "      <td>408</td>\n",
       "      <td>42432756</td>\n",
       "      <td>42434113</td>\n",
       "      <td>0</td>\n",
       "      <td>2640</td>\n",
       "      <td>44</td>\n",
       "      <td>440</td>\n",
       "      <td>...</td>\n",
       "      <td>999999</td>\n",
       "      <td>1</td>\n",
       "      <td>440</td>\n",
       "      <td>5.500000</td>\n",
       "      <td>1</td>\n",
       "      <td>0</td>\n",
       "      <td>-73.965196</td>\n",
       "      <td>40.801107</td>\n",
       "      <td>-73.947489</td>\n",
       "      <td>40.815207</td>\n",
       "    </tr>\n",
       "    <tr>\n",
       "      <th>2</th>\n",
       "      <td>id3991965</td>\n",
       "      <td>2016-01-01 00:20:08</td>\n",
       "      <td>2016-01-01 00:29:16</td>\n",
       "      <td>548</td>\n",
       "      <td>42437917</td>\n",
       "      <td>42434113</td>\n",
       "      <td>0</td>\n",
       "      <td>2705</td>\n",
       "      <td>1191</td>\n",
       "      <td>450</td>\n",
       "      <td>...</td>\n",
       "      <td>999999</td>\n",
       "      <td>118</td>\n",
       "      <td>450</td>\n",
       "      <td>5.632500</td>\n",
       "      <td>1</td>\n",
       "      <td>0</td>\n",
       "      <td>-73.963370</td>\n",
       "      <td>40.798568</td>\n",
       "      <td>-73.947489</td>\n",
       "      <td>40.815207</td>\n",
       "    </tr>\n",
       "  </tbody>\n",
       "</table>\n",
       "<p>3 rows × 24 columns</p>\n",
       "</div>"
      ],
      "text/plain": [
       "          id     pickup_datetime     dropoff_datetime  trip_duration  \\\n",
       "0  id0190469 2016-01-01 00:00:17  2016-01-01 00:14:26            849   \n",
       "1  id1210365 2016-01-01 00:01:01  2016-01-01 00:07:49            408   \n",
       "2  id3991965 2016-01-01 00:20:08  2016-01-01 00:29:16            548   \n",
       "\n",
       "     origin  destination  status   dist  treq  ttrav  ...    u_PT  ride_id  \\\n",
       "0  42427352     42438018       0  14340     0   2390  ...  999999      306   \n",
       "1  42432756     42434113       0   2640    44    440  ...  999999        1   \n",
       "2  42437917     42434113       0   2705  1191    450  ...  999999      118   \n",
       "\n",
       "   ttrav_sh       u_sh  kind  position      x_org      y_org     x_dest  \\\n",
       "0      2591  29.772825    21         0 -73.981942  40.719462 -73.938959   \n",
       "1       440   5.500000     1         0 -73.965196  40.801107 -73.947489   \n",
       "2       450   5.632500     1         0 -73.963370  40.798568 -73.947489   \n",
       "\n",
       "      y_dest  \n",
       "0  40.828984  \n",
       "1  40.815207  \n",
       "2  40.815207  \n",
       "\n",
       "[3 rows x 24 columns]"
      ]
     },
     "execution_count": 9,
     "metadata": {},
     "output_type": "execute_result"
    }
   ],
   "source": [
    "concatenated_data[:3]"
   ]
  },
  {
   "cell_type": "code",
   "execution_count": 26,
   "id": "ef8beb89",
   "metadata": {},
   "outputs": [
    {
     "data": {
      "text/plain": [
       "4908349"
      ]
     },
     "execution_count": 26,
     "metadata": {},
     "output_type": "execute_result"
    }
   ],
   "source": [
    "len(concatenated_data)"
   ]
  }
 ],
 "metadata": {
  "kernelspec": {
   "display_name": "Python 3 (ipykernel)",
   "language": "python",
   "name": "python3"
  },
  "language_info": {
   "codemirror_mode": {
    "name": "ipython",
    "version": 3
   },
   "file_extension": ".py",
   "mimetype": "text/x-python",
   "name": "python",
   "nbconvert_exporter": "python",
   "pygments_lexer": "ipython3",
   "version": "3.9.7"
  }
 },
 "nbformat": 4,
 "nbformat_minor": 5
}
