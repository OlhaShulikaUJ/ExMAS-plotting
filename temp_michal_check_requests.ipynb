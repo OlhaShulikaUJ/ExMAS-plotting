{
 "cells": [
  {
   "cell_type": "code",
   "execution_count": 1,
   "id": "5b2ece94",
   "metadata": {},
   "outputs": [],
   "source": [
    "import pickle\n",
    "import pandas as pd"
   ]
  },
  {
   "cell_type": "code",
   "execution_count": 3,
   "id": "13127598",
   "metadata": {},
   "outputs": [],
   "source": [
    "with open(r\"full_path\\Extended_manhattan_pooling.obj\", \"rb\") as file:\n",
    "    data = pickle.load(file)"
   ]
  },
  {
   "cell_type": "code",
   "execution_count": 15,
   "id": "cbd2aaec",
   "metadata": {},
   "outputs": [
    {
     "data": {
      "text/plain": [
       "dict_keys(['requests', 'schedule', 'results', 'settings'])"
      ]
     },
     "execution_count": 15,
     "metadata": {},
     "output_type": "execute_result"
    }
   ],
   "source": [
    "data[0].keys()"
   ]
  },
  {
   "cell_type": "code",
   "execution_count": 18,
   "id": "f99502f3",
   "metadata": {},
   "outputs": [
    {
     "data": {
      "text/plain": [
       "Index(['id', 'pickup_datetime', 'dropoff_datetime', 'trip_duration', 'origin',\n",
       "       'destination', 'status', 'dist', 'treq', 'ttrav', 'pax_id', 'VoT',\n",
       "       'delta', 'u', 'u_PT', 'ride_id', 'ttrav_sh', 'u_sh', 'kind', 'position',\n",
       "       'x_org', 'y_org', 'x_dest', 'y_dest'],\n",
       "      dtype='object')"
      ]
     },
     "execution_count": 18,
     "metadata": {},
     "output_type": "execute_result"
    }
   ],
   "source": [
    "data[0][\"requests\"].columns"
   ]
  },
  {
   "cell_type": "code",
   "execution_count": 20,
   "id": "0a96204e",
   "metadata": {},
   "outputs": [
    {
     "data": {
      "text/html": [
       "<div>\n",
       "<style scoped>\n",
       "    .dataframe tbody tr th:only-of-type {\n",
       "        vertical-align: middle;\n",
       "    }\n",
       "\n",
       "    .dataframe tbody tr th {\n",
       "        vertical-align: top;\n",
       "    }\n",
       "\n",
       "    .dataframe thead th {\n",
       "        text-align: right;\n",
       "    }\n",
       "</style>\n",
       "<table border=\"1\" class=\"dataframe\">\n",
       "  <thead>\n",
       "    <tr style=\"text-align: right;\">\n",
       "      <th></th>\n",
       "      <th>id</th>\n",
       "      <th>pickup_datetime</th>\n",
       "      <th>dropoff_datetime</th>\n",
       "      <th>trip_duration</th>\n",
       "      <th>origin</th>\n",
       "      <th>destination</th>\n",
       "      <th>status</th>\n",
       "      <th>dist</th>\n",
       "      <th>treq</th>\n",
       "      <th>ttrav</th>\n",
       "      <th>...</th>\n",
       "      <th>u_PT</th>\n",
       "      <th>ride_id</th>\n",
       "      <th>ttrav_sh</th>\n",
       "      <th>u_sh</th>\n",
       "      <th>kind</th>\n",
       "      <th>position</th>\n",
       "      <th>x_org</th>\n",
       "      <th>y_org</th>\n",
       "      <th>x_dest</th>\n",
       "      <th>y_dest</th>\n",
       "    </tr>\n",
       "  </thead>\n",
       "  <tbody>\n",
       "    <tr>\n",
       "      <th>0</th>\n",
       "      <td>id0190469</td>\n",
       "      <td>2016-01-01 00:00:17</td>\n",
       "      <td>2016-01-01 00:14:26</td>\n",
       "      <td>849</td>\n",
       "      <td>42427352</td>\n",
       "      <td>42438018</td>\n",
       "      <td>0</td>\n",
       "      <td>14340</td>\n",
       "      <td>0</td>\n",
       "      <td>2390</td>\n",
       "      <td>...</td>\n",
       "      <td>999999</td>\n",
       "      <td>306</td>\n",
       "      <td>2591</td>\n",
       "      <td>29.772825</td>\n",
       "      <td>21</td>\n",
       "      <td>0</td>\n",
       "      <td>-73.981942</td>\n",
       "      <td>40.719462</td>\n",
       "      <td>-73.938959</td>\n",
       "      <td>40.828984</td>\n",
       "    </tr>\n",
       "  </tbody>\n",
       "</table>\n",
       "<p>1 rows × 24 columns</p>\n",
       "</div>"
      ],
      "text/plain": [
       "          id     pickup_datetime     dropoff_datetime  trip_duration  \\\n",
       "0  id0190469 2016-01-01 00:00:17  2016-01-01 00:14:26            849   \n",
       "\n",
       "     origin  destination  status   dist  treq  ttrav  ...    u_PT  ride_id  \\\n",
       "0  42427352     42438018       0  14340     0   2390  ...  999999      306   \n",
       "\n",
       "   ttrav_sh       u_sh  kind  position      x_org      y_org     x_dest  \\\n",
       "0      2591  29.772825    21         0 -73.981942  40.719462 -73.938959   \n",
       "\n",
       "      y_dest  \n",
       "0  40.828984  \n",
       "\n",
       "[1 rows x 24 columns]"
      ]
     },
     "execution_count": 20,
     "metadata": {},
     "output_type": "execute_result"
    }
   ],
   "source": [
    "data[0][\"requests\"][:1]"
   ]
  },
  {
   "cell_type": "code",
   "execution_count": 28,
   "id": "2c0b5616",
   "metadata": {},
   "outputs": [
    {
     "data": {
      "text/plain": [
       "34592"
      ]
     },
     "execution_count": 28,
     "metadata": {},
     "output_type": "execute_result"
    }
   ],
   "source": [
    "len(data)"
   ]
  },
  {
   "cell_type": "code",
   "execution_count": 26,
   "id": "932a3e2e",
   "metadata": {},
   "outputs": [
    {
     "data": {
      "text/plain": [
       "{'Replication': 0,\n",
       " 'Batch': 0,\n",
       " 'shared_discount': 0.2,\n",
       " 'Start_time': Timestamp('2016-01-01 00:00:17'),\n",
       " 'End_time': Timestamp('2016-01-01 00:29:45'),\n",
       " 'Demand_size': 198}"
      ]
     },
     "execution_count": 26,
     "metadata": {},
     "output_type": "execute_result"
    }
   ],
   "source": [
    "data[0][\"settings\"]"
   ]
  },
  {
   "cell_type": "code",
   "execution_count": 27,
   "id": "30575c7a",
   "metadata": {},
   "outputs": [],
   "source": [
    "data_one_discount = [d for d in data if d[\"settings\"][\"shared_discount\"] == 0.32]"
   ]
  },
  {
   "cell_type": "code",
   "execution_count": 21,
   "id": "27482421",
   "metadata": {},
   "outputs": [],
   "source": [
    "for d in data_one_discount:\n",
    "    d[\"requests\"][\"ttrav_add\"] = (d[\"requests\"][\"ttrav_sh\"] - d[\"requests\"][\"ttrav\"])/d[\"requests\"][\"ttrav\"]"
   ]
  },
  {
   "cell_type": "code",
   "execution_count": 39,
   "id": "c1eaf539",
   "metadata": {},
   "outputs": [
    {
     "data": {
      "text/html": [
       "<div>\n",
       "<style scoped>\n",
       "    .dataframe tbody tr th:only-of-type {\n",
       "        vertical-align: middle;\n",
       "    }\n",
       "\n",
       "    .dataframe tbody tr th {\n",
       "        vertical-align: top;\n",
       "    }\n",
       "\n",
       "    .dataframe thead th {\n",
       "        text-align: right;\n",
       "    }\n",
       "</style>\n",
       "<table border=\"1\" class=\"dataframe\">\n",
       "  <thead>\n",
       "    <tr style=\"text-align: right;\">\n",
       "      <th></th>\n",
       "      <th>id</th>\n",
       "      <th>pickup_datetime</th>\n",
       "      <th>dropoff_datetime</th>\n",
       "      <th>trip_duration</th>\n",
       "      <th>origin</th>\n",
       "      <th>destination</th>\n",
       "      <th>status</th>\n",
       "      <th>dist</th>\n",
       "      <th>treq</th>\n",
       "      <th>ttrav</th>\n",
       "      <th>...</th>\n",
       "      <th>ride_id</th>\n",
       "      <th>ttrav_sh</th>\n",
       "      <th>u_sh</th>\n",
       "      <th>kind</th>\n",
       "      <th>position</th>\n",
       "      <th>x_org</th>\n",
       "      <th>y_org</th>\n",
       "      <th>x_dest</th>\n",
       "      <th>y_dest</th>\n",
       "      <th>ttrav_add</th>\n",
       "    </tr>\n",
       "  </thead>\n",
       "  <tbody>\n",
       "    <tr>\n",
       "      <th>0</th>\n",
       "      <td>id0190469</td>\n",
       "      <td>2016-01-01 00:00:17</td>\n",
       "      <td>2016-01-01 00:14:26</td>\n",
       "      <td>849</td>\n",
       "      <td>42427352</td>\n",
       "      <td>42438018</td>\n",
       "      <td>0</td>\n",
       "      <td>14340</td>\n",
       "      <td>0</td>\n",
       "      <td>2390</td>\n",
       "      <td>...</td>\n",
       "      <td>2057</td>\n",
       "      <td>2848</td>\n",
       "      <td>28.779575</td>\n",
       "      <td>50</td>\n",
       "      <td>0</td>\n",
       "      <td>-73.981942</td>\n",
       "      <td>40.719462</td>\n",
       "      <td>-73.938959</td>\n",
       "      <td>40.828984</td>\n",
       "      <td>0.191632</td>\n",
       "    </tr>\n",
       "  </tbody>\n",
       "</table>\n",
       "<p>1 rows × 25 columns</p>\n",
       "</div>"
      ],
      "text/plain": [
       "          id     pickup_datetime     dropoff_datetime  trip_duration  \\\n",
       "0  id0190469 2016-01-01 00:00:17  2016-01-01 00:14:26            849   \n",
       "\n",
       "     origin  destination  status   dist  treq  ttrav  ... ride_id  ttrav_sh  \\\n",
       "0  42427352     42438018       0  14340     0   2390  ...    2057      2848   \n",
       "\n",
       "        u_sh  kind  position      x_org      y_org     x_dest     y_dest  \\\n",
       "0  28.779575    50         0 -73.981942  40.719462 -73.938959  40.828984   \n",
       "\n",
       "   ttrav_add  \n",
       "0   0.191632  \n",
       "\n",
       "[1 rows x 25 columns]"
      ]
     },
     "execution_count": 39,
     "metadata": {},
     "output_type": "execute_result"
    }
   ],
   "source": [
    "data_one_discount[0][\"requests\"][:1]"
   ]
  },
  {
   "cell_type": "code",
   "execution_count": 29,
   "id": "7cb8fbc1",
   "metadata": {},
   "outputs": [
    {
     "data": {
      "text/plain": [
       "8686"
      ]
     },
     "execution_count": 29,
     "metadata": {},
     "output_type": "execute_result"
    }
   ],
   "source": [
    "len(data_one_discount)"
   ]
  },
  {
   "cell_type": "code",
   "execution_count": 30,
   "id": "aecac9eb",
   "metadata": {},
   "outputs": [],
   "source": [
    "df = pd.DataFrame()\n",
    "for d in data_one_discount:\n",
    "    df = pd.concat([df, d['requests']], ignore_index=True)"
   ]
  },
  {
   "cell_type": "code",
   "execution_count": 31,
   "id": "11b0c124",
   "metadata": {},
   "outputs": [
    {
     "data": {
      "text/plain": [
       "1227731"
      ]
     },
     "execution_count": 31,
     "metadata": {},
     "output_type": "execute_result"
    }
   ],
   "source": [
    "len(df)"
   ]
  },
  {
   "cell_type": "code",
   "execution_count": 32,
   "id": "eae47249",
   "metadata": {},
   "outputs": [
    {
     "data": {
      "text/html": [
       "<div>\n",
       "<style scoped>\n",
       "    .dataframe tbody tr th:only-of-type {\n",
       "        vertical-align: middle;\n",
       "    }\n",
       "\n",
       "    .dataframe tbody tr th {\n",
       "        vertical-align: top;\n",
       "    }\n",
       "\n",
       "    .dataframe thead th {\n",
       "        text-align: right;\n",
       "    }\n",
       "</style>\n",
       "<table border=\"1\" class=\"dataframe\">\n",
       "  <thead>\n",
       "    <tr style=\"text-align: right;\">\n",
       "      <th></th>\n",
       "      <th>id</th>\n",
       "      <th>pickup_datetime</th>\n",
       "      <th>dropoff_datetime</th>\n",
       "      <th>trip_duration</th>\n",
       "      <th>origin</th>\n",
       "      <th>destination</th>\n",
       "      <th>status</th>\n",
       "      <th>dist</th>\n",
       "      <th>treq</th>\n",
       "      <th>ttrav</th>\n",
       "      <th>...</th>\n",
       "      <th>ride_id</th>\n",
       "      <th>ttrav_sh</th>\n",
       "      <th>u_sh</th>\n",
       "      <th>kind</th>\n",
       "      <th>position</th>\n",
       "      <th>x_org</th>\n",
       "      <th>y_org</th>\n",
       "      <th>x_dest</th>\n",
       "      <th>y_dest</th>\n",
       "      <th>ttrav_add</th>\n",
       "    </tr>\n",
       "  </thead>\n",
       "  <tbody>\n",
       "    <tr>\n",
       "      <th>0</th>\n",
       "      <td>id0190469</td>\n",
       "      <td>2016-01-01 00:00:17</td>\n",
       "      <td>2016-01-01 00:14:26</td>\n",
       "      <td>849</td>\n",
       "      <td>42427352</td>\n",
       "      <td>42438018</td>\n",
       "      <td>0</td>\n",
       "      <td>14340</td>\n",
       "      <td>0</td>\n",
       "      <td>2390</td>\n",
       "      <td>...</td>\n",
       "      <td>2057</td>\n",
       "      <td>2848</td>\n",
       "      <td>28.779575</td>\n",
       "      <td>50</td>\n",
       "      <td>0</td>\n",
       "      <td>-73.981942</td>\n",
       "      <td>40.719462</td>\n",
       "      <td>-73.938959</td>\n",
       "      <td>40.828984</td>\n",
       "      <td>0.191632</td>\n",
       "    </tr>\n",
       "    <tr>\n",
       "      <th>1</th>\n",
       "      <td>id1210365</td>\n",
       "      <td>2016-01-01 00:01:01</td>\n",
       "      <td>2016-01-01 00:07:49</td>\n",
       "      <td>408</td>\n",
       "      <td>42432756</td>\n",
       "      <td>42434113</td>\n",
       "      <td>0</td>\n",
       "      <td>2640</td>\n",
       "      <td>44</td>\n",
       "      <td>440</td>\n",
       "      <td>...</td>\n",
       "      <td>1</td>\n",
       "      <td>440</td>\n",
       "      <td>5.500000</td>\n",
       "      <td>1</td>\n",
       "      <td>0</td>\n",
       "      <td>-73.965196</td>\n",
       "      <td>40.801107</td>\n",
       "      <td>-73.947489</td>\n",
       "      <td>40.815207</td>\n",
       "      <td>0.000000</td>\n",
       "    </tr>\n",
       "  </tbody>\n",
       "</table>\n",
       "<p>2 rows × 25 columns</p>\n",
       "</div>"
      ],
      "text/plain": [
       "          id     pickup_datetime     dropoff_datetime  trip_duration  \\\n",
       "0  id0190469 2016-01-01 00:00:17  2016-01-01 00:14:26            849   \n",
       "1  id1210365 2016-01-01 00:01:01  2016-01-01 00:07:49            408   \n",
       "\n",
       "     origin  destination  status   dist  treq  ttrav  ... ride_id  ttrav_sh  \\\n",
       "0  42427352     42438018       0  14340     0   2390  ...    2057      2848   \n",
       "1  42432756     42434113       0   2640    44    440  ...       1       440   \n",
       "\n",
       "        u_sh  kind  position      x_org      y_org     x_dest     y_dest  \\\n",
       "0  28.779575    50         0 -73.981942  40.719462 -73.938959  40.828984   \n",
       "1   5.500000     1         0 -73.965196  40.801107 -73.947489  40.815207   \n",
       "\n",
       "   ttrav_add  \n",
       "0   0.191632  \n",
       "1   0.000000  \n",
       "\n",
       "[2 rows x 25 columns]"
      ]
     },
     "execution_count": 32,
     "metadata": {},
     "output_type": "execute_result"
    }
   ],
   "source": [
    "df[:2]"
   ]
  },
  {
   "cell_type": "code",
   "execution_count": 34,
   "id": "4a36c5d2",
   "metadata": {},
   "outputs": [
    {
     "data": {
      "image/png": "[encoded data removed]",
      "text/plain": [
       "<Figure size 432x288 with 1 Axes>"
      ]
     },
     "metadata": {
      "needs_background": "light"
     },
     "output_type": "display_data"
    }
   ],
   "source": [
    "import matplotlib.pyplot as plt\n",
    "\n",
    "plt.hist(df[\"ttrav_add\"])\n",
    "plt.show()\n",
    "plt.close()"
   ]
  },
  {
   "cell_type": "code",
   "execution_count": 37,
   "id": "3276a154",
   "metadata": {},
   "outputs": [
    {
     "data": {
      "text/plain": [
       "741972"
      ]
     },
     "execution_count": 37,
     "metadata": {},
     "output_type": "execute_result"
    }
   ],
   "source": [
    "len(df.loc[df[\"ttrav_add\"] == 0])"
   ]
  },
  {
   "cell_type": "markdown",
   "id": "75cba67d",
   "metadata": {},
   "source": [
    "# On the other hand"
   ]
  },
  {
   "cell_type": "code",
   "execution_count": 38,
   "id": "23d5dc39",
   "metadata": {},
   "outputs": [
    {
     "data": {
      "text/plain": [
       "VehHourTrav                    74426\n",
       "VehHourTrav_ns                114141\n",
       "PassHourTrav                  126651\n",
       "PassHourTrav_ns               114141\n",
       "PassUtility               1361.61053\n",
       "PassUtility_ns              1427.544\n",
       "mean_lambda                 0.414819\n",
       "revenue_s                  116423.82\n",
       "revenue_ns                  171211.5\n",
       "Fare_Discount                  -0.32\n",
       "nR                               198\n",
       "SINGLE                            74\n",
       "PAIRS                             35\n",
       "TRIPLES                            6\n",
       "QUADRIPLES                         5\n",
       "QUINTETS                           2\n",
       "PLUS5                              1\n",
       "shared_ratio                0.626263\n",
       "fleet_size_nonshared            82.0\n",
       "fleet_size_shared               51.0\n",
       "lambda_shared               0.414819\n",
       "_typ                    {'_typ': {}}\n",
       "dtype                   {'_typ': {}}\n",
       "dtype: object"
      ]
     },
     "execution_count": 38,
     "metadata": {},
     "output_type": "execute_result"
    }
   ],
   "source": [
    "data_one_discount[0][\"results\"]"
   ]
  },
  {
   "cell_type": "code",
   "execution_count": 41,
   "id": "29d17d5a",
   "metadata": {},
   "outputs": [],
   "source": [
    "for d in data_one_discount:\n",
    "    d[\"results\"][\"PassHourTrav_add\"] = (d[\"results\"][\"PassHourTrav\"] - d[\"results\"][\"PassHourTrav_ns\"])/d[\"results\"][\"PassHourTrav_ns\"]"
   ]
  },
  {
   "cell_type": "code",
   "execution_count": 42,
   "id": "54387bc2",
   "metadata": {},
   "outputs": [],
   "source": [
    "res_list = []\n",
    "for d in data_one_discount:\n",
    "    res_list.append(d[\"results\"][\"PassHourTrav_add\"])"
   ]
  },
  {
   "cell_type": "code",
   "execution_count": 46,
   "id": "b25c0825",
   "metadata": {},
   "outputs": [
    {
     "data": {
      "image/png": "[encoded data removed]",
      "text/plain": [
       "<Figure size 432x288 with 1 Axes>"
      ]
     },
     "metadata": {
      "needs_background": "light"
     },
     "output_type": "display_data"
    }
   ],
   "source": [
    "plt.hist(res_list, bins=100)\n",
    "plt.show()\n",
    "plt.close()"
   ]
  },
  {
   "cell_type": "code",
   "execution_count": null,
   "id": "d1154524",
   "metadata": {},
   "outputs": [],
   "source": []
  }
 ],
 "metadata": {
  "kernelspec": {
   "display_name": "Python 3 (ipykernel)",
   "language": "python",
   "name": "python3"
  },
  "language_info": {
   "codemirror_mode": {
    "name": "ipython",
    "version": 3
   },
   "file_extension": ".py",
   "mimetype": "text/x-python",
   "name": "python",
   "nbconvert_exporter": "python",
   "pygments_lexer": "ipython3",
   "version": "3.9.7"
  }
 },
 "nbformat": 4,
 "nbformat_minor": 5
}
